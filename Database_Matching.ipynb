{
 "cells": [
  {
   "cell_type": "code",
   "execution_count": 63,
   "metadata": {
    "collapsed": true
   },
   "outputs": [],
   "source": [
    "import pandas as pd\n",
    "import psycopg2\n",
    "%matplotlib inline"
   ]
  },
  {
   "cell_type": "code",
   "execution_count": 51,
   "metadata": {
    "collapsed": false
   },
   "outputs": [],
   "source": [
    "conn = psycopg2.connect('host=localhost dbname=airbnb-analysis')"
   ]
  },
  {
   "cell_type": "code",
   "execution_count": 69,
   "metadata": {
    "collapsed": true
   },
   "outputs": [],
   "source": [
    "query = \"\"\"\n",
    "SELECT\n",
    "listings.id as airbnb_id,\n",
    "listings.listing_url as airbnb_url,\n",
    "listings.host_total_listings_count as airbnb_listings_by_host,\n",
    "listings.is_location_exact as airbnb_location_exact,\n",
    "listings.room_type as airbnb_room_type,\n",
    "rso.\"APN\" as rso_apn,\n",
    "rso.\"Secondary_Address\" as rso_address,\n",
    "rso.\"Category\" as rso_type,\n",
    "ST_Distance(geography(rso.geom), geography(listings.geom)) AS distance\n",
    "FROM\n",
    "listings \n",
    "CROSS JOIN LATERAL\n",
    "(SELECT merged.\"APN\", \n",
    "        merged.geom, \n",
    "        merged.\"Secondary_Address\", \n",
    "        merged.\"Category\"\n",
    "FROM merged\n",
    "ORDER BY\n",
    "listings.geom <-> geom\n",
    "LIMIT 1) AS rso\n",
    "ORDER BY distance;\n",
    "\"\"\""
   ]
  },
  {
   "cell_type": "code",
   "execution_count": 70,
   "metadata": {
    "collapsed": false
   },
   "outputs": [
    {
     "data": {
      "text/html": [
       "<div>\n",
       "<table border=\"1\" class=\"dataframe\">\n",
       "  <thead>\n",
       "    <tr style=\"text-align: right;\">\n",
       "      <th></th>\n",
       "      <th>airbnb_id</th>\n",
       "      <th>airbnb_url</th>\n",
       "      <th>airbnb_listings_by_host</th>\n",
       "      <th>airbnb_location_exact</th>\n",
       "      <th>airbnb_room_type</th>\n",
       "      <th>rso_apn</th>\n",
       "      <th>rso_address</th>\n",
       "      <th>rso_type</th>\n",
       "      <th>distance</th>\n",
       "    </tr>\n",
       "  </thead>\n",
       "  <tbody>\n",
       "    <tr>\n",
       "      <th>0</th>\n",
       "      <td>12053638</td>\n",
       "      <td>https://www.airbnb.com/rooms/12053638</td>\n",
       "      <td>2.0</td>\n",
       "      <td>True</td>\n",
       "      <td>Private room</td>\n",
       "      <td>4302018031</td>\n",
       "      <td>8933 W CADILLAC AVE LOS ANGELES 90034</td>\n",
       "      <td>MULTIFAMILY</td>\n",
       "      <td>0.423321</td>\n",
       "    </tr>\n",
       "    <tr>\n",
       "      <th>1</th>\n",
       "      <td>12592466</td>\n",
       "      <td>https://www.airbnb.com/rooms/12592466</td>\n",
       "      <td>1.0</td>\n",
       "      <td>True</td>\n",
       "      <td>Entire home/apt</td>\n",
       "      <td>2353012036</td>\n",
       "      <td>5045 N FAIR AVE LOS ANGELES 91601</td>\n",
       "      <td>CONDOMINIUM</td>\n",
       "      <td>0.475009</td>\n",
       "    </tr>\n",
       "    <tr>\n",
       "      <th>2</th>\n",
       "      <td>6800231</td>\n",
       "      <td>https://www.airbnb.com/rooms/6800231</td>\n",
       "      <td>9.0</td>\n",
       "      <td>True</td>\n",
       "      <td>Shared room</td>\n",
       "      <td>4265008063</td>\n",
       "      <td>11759 W MAYFIELD AVE LOS ANGELES 90049</td>\n",
       "      <td>CONDOMINIUM</td>\n",
       "      <td>0.490954</td>\n",
       "    </tr>\n",
       "    <tr>\n",
       "      <th>3</th>\n",
       "      <td>3731479</td>\n",
       "      <td>https://www.airbnb.com/rooms/3731479</td>\n",
       "      <td>1.0</td>\n",
       "      <td>False</td>\n",
       "      <td>Entire home/apt</td>\n",
       "      <td>4238011022</td>\n",
       "      <td>1307 S INNES PL LOS ANGELES 90291</td>\n",
       "      <td>MULTIFAMILY</td>\n",
       "      <td>0.545337</td>\n",
       "    </tr>\n",
       "    <tr>\n",
       "      <th>4</th>\n",
       "      <td>1056743</td>\n",
       "      <td>https://www.airbnb.com/rooms/1056743</td>\n",
       "      <td>1.0</td>\n",
       "      <td>True</td>\n",
       "      <td>Entire home/apt</td>\n",
       "      <td>5419017002</td>\n",
       "      <td>1537 N LAKE SHORE AVE LOS ANGELES 90026</td>\n",
       "      <td>MULTIFAMILY</td>\n",
       "      <td>0.585486</td>\n",
       "    </tr>\n",
       "  </tbody>\n",
       "</table>\n",
       "</div>"
      ],
      "text/plain": [
       "   airbnb_id                             airbnb_url  airbnb_listings_by_host  \\\n",
       "0   12053638  https://www.airbnb.com/rooms/12053638                      2.0   \n",
       "1   12592466  https://www.airbnb.com/rooms/12592466                      1.0   \n",
       "2    6800231   https://www.airbnb.com/rooms/6800231                      9.0   \n",
       "3    3731479   https://www.airbnb.com/rooms/3731479                      1.0   \n",
       "4    1056743   https://www.airbnb.com/rooms/1056743                      1.0   \n",
       "\n",
       "  airbnb_location_exact airbnb_room_type     rso_apn  \\\n",
       "0                  True     Private room  4302018031   \n",
       "1                  True  Entire home/apt  2353012036   \n",
       "2                  True      Shared room  4265008063   \n",
       "3                 False  Entire home/apt  4238011022   \n",
       "4                  True  Entire home/apt  5419017002   \n",
       "\n",
       "                               rso_address     rso_type  distance  \n",
       "0    8933 W CADILLAC AVE LOS ANGELES 90034  MULTIFAMILY  0.423321  \n",
       "1        5045 N FAIR AVE LOS ANGELES 91601  CONDOMINIUM  0.475009  \n",
       "2   11759 W MAYFIELD AVE LOS ANGELES 90049  CONDOMINIUM  0.490954  \n",
       "3        1307 S INNES PL LOS ANGELES 90291  MULTIFAMILY  0.545337  \n",
       "4  1537 N LAKE SHORE AVE LOS ANGELES 90026  MULTIFAMILY  0.585486  "
      ]
     },
     "execution_count": 70,
     "metadata": {},
     "output_type": "execute_result"
    }
   ],
   "source": [
    "df = pd.read_sql(query, conn)\n",
    "total_scraped = len(df)\n",
    "df.head(5)"
   ]
  },
  {
   "cell_type": "markdown",
   "metadata": {},
   "source": [
    "## Filtering\n",
    "* Only whole rooms \n",
    "* Only exact locations "
   ]
  },
  {
   "cell_type": "code",
   "execution_count": 73,
   "metadata": {
    "collapsed": false
   },
   "outputs": [
    {
     "data": {
      "text/plain": [
       "Entire home/apt    15184\n",
       "Private room        9597\n",
       "Shared room         1299\n",
       "Name: airbnb_room_type, dtype: int64"
      ]
     },
     "execution_count": 73,
     "metadata": {},
     "output_type": "execute_result"
    }
   ],
   "source": [
    "df.airbnb_room_type.value_counts()"
   ]
  },
  {
   "cell_type": "code",
   "execution_count": 74,
   "metadata": {
    "collapsed": false
   },
   "outputs": [
    {
     "data": {
      "text/plain": [
       "True     21370\n",
       "False     4710\n",
       "Name: airbnb_location_exact, dtype: int64"
      ]
     },
     "execution_count": 74,
     "metadata": {},
     "output_type": "execute_result"
    }
   ],
   "source": [
    "df.airbnb_location_exact.value_counts()"
   ]
  },
  {
   "cell_type": "code",
   "execution_count": 75,
   "metadata": {
    "collapsed": false
   },
   "outputs": [],
   "source": [
    "df = df[df['airbnb_room_type'] == 'Entire home/apt']"
   ]
  },
  {
   "cell_type": "code",
   "execution_count": 76,
   "metadata": {
    "collapsed": true
   },
   "outputs": [],
   "source": [
    "df = df[df['airbnb_location_exact'] == True]"
   ]
  },
  {
   "cell_type": "code",
   "execution_count": 77,
   "metadata": {
    "collapsed": false
   },
   "outputs": [
    {
     "name": "stdout",
     "output_type": "stream",
     "text": [
      "Total number of qualified listings: 12859\n",
      "Total number of scraped listings: 26080\n"
     ]
    }
   ],
   "source": [
    "print(\"Total number of qualified listings: %s\" % str(len(df)))\n",
    "print(\"Total number of scraped listings: %s\" % str(total_scraped))"
   ]
  },
  {
   "cell_type": "markdown",
   "metadata": {},
   "source": [
    "^ is the number of homes that have an exact location on AirBNB and are an entire home/apt. Distance is in Meters. \n",
    "\n",
    "_Here are the most likely candidates. _ "
   ]
  },
  {
   "cell_type": "code",
   "execution_count": 79,
   "metadata": {
    "collapsed": false
   },
   "outputs": [
    {
     "data": {
      "text/html": [
       "<div>\n",
       "<table border=\"1\" class=\"dataframe\">\n",
       "  <thead>\n",
       "    <tr style=\"text-align: right;\">\n",
       "      <th></th>\n",
       "      <th>airbnb_id</th>\n",
       "      <th>airbnb_url</th>\n",
       "      <th>airbnb_listings_by_host</th>\n",
       "      <th>airbnb_location_exact</th>\n",
       "      <th>airbnb_room_type</th>\n",
       "      <th>rso_apn</th>\n",
       "      <th>rso_address</th>\n",
       "      <th>rso_type</th>\n",
       "      <th>distance</th>\n",
       "    </tr>\n",
       "  </thead>\n",
       "  <tbody>\n",
       "    <tr>\n",
       "      <th>1</th>\n",
       "      <td>12592466</td>\n",
       "      <td>https://www.airbnb.com/rooms/12592466</td>\n",
       "      <td>1.0</td>\n",
       "      <td>True</td>\n",
       "      <td>Entire home/apt</td>\n",
       "      <td>2353012036</td>\n",
       "      <td>5045 N FAIR AVE LOS ANGELES 91601</td>\n",
       "      <td>CONDOMINIUM</td>\n",
       "      <td>0.475009</td>\n",
       "    </tr>\n",
       "    <tr>\n",
       "      <th>4</th>\n",
       "      <td>1056743</td>\n",
       "      <td>https://www.airbnb.com/rooms/1056743</td>\n",
       "      <td>1.0</td>\n",
       "      <td>True</td>\n",
       "      <td>Entire home/apt</td>\n",
       "      <td>5419017002</td>\n",
       "      <td>1537 N LAKE SHORE AVE LOS ANGELES 90026</td>\n",
       "      <td>MULTIFAMILY</td>\n",
       "      <td>0.585486</td>\n",
       "    </tr>\n",
       "    <tr>\n",
       "      <th>5</th>\n",
       "      <td>2739290</td>\n",
       "      <td>https://www.airbnb.com/rooms/2739290</td>\n",
       "      <td>3.0</td>\n",
       "      <td>True</td>\n",
       "      <td>Entire home/apt</td>\n",
       "      <td>5401005020</td>\n",
       "      <td>627 N TULAROSA DR LOS ANGELES 90026</td>\n",
       "      <td>MULTIFAMILY</td>\n",
       "      <td>0.586285</td>\n",
       "    </tr>\n",
       "    <tr>\n",
       "      <th>6</th>\n",
       "      <td>9347680</td>\n",
       "      <td>https://www.airbnb.com/rooms/9347680</td>\n",
       "      <td>1.0</td>\n",
       "      <td>True</td>\n",
       "      <td>Entire home/apt</td>\n",
       "      <td>5427005014</td>\n",
       "      <td>922 N MANZANITA ST LOS ANGELES 90029</td>\n",
       "      <td>MULTIFAMILY</td>\n",
       "      <td>0.673489</td>\n",
       "    </tr>\n",
       "    <tr>\n",
       "      <th>9</th>\n",
       "      <td>14088884</td>\n",
       "      <td>https://www.airbnb.com/rooms/14088884</td>\n",
       "      <td>2.0</td>\n",
       "      <td>True</td>\n",
       "      <td>Entire home/apt</td>\n",
       "      <td>4303002047</td>\n",
       "      <td>1503 S SHENANDOAH ST LOS ANGELES 90035</td>\n",
       "      <td>MULTIFAMILY</td>\n",
       "      <td>0.808627</td>\n",
       "    </tr>\n",
       "  </tbody>\n",
       "</table>\n",
       "</div>"
      ],
      "text/plain": [
       "   airbnb_id                             airbnb_url  airbnb_listings_by_host  \\\n",
       "1   12592466  https://www.airbnb.com/rooms/12592466                      1.0   \n",
       "4    1056743   https://www.airbnb.com/rooms/1056743                      1.0   \n",
       "5    2739290   https://www.airbnb.com/rooms/2739290                      3.0   \n",
       "6    9347680   https://www.airbnb.com/rooms/9347680                      1.0   \n",
       "9   14088884  https://www.airbnb.com/rooms/14088884                      2.0   \n",
       "\n",
       "  airbnb_location_exact airbnb_room_type     rso_apn  \\\n",
       "1                  True  Entire home/apt  2353012036   \n",
       "4                  True  Entire home/apt  5419017002   \n",
       "5                  True  Entire home/apt  5401005020   \n",
       "6                  True  Entire home/apt  5427005014   \n",
       "9                  True  Entire home/apt  4303002047   \n",
       "\n",
       "                               rso_address     rso_type  distance  \n",
       "1        5045 N FAIR AVE LOS ANGELES 91601  CONDOMINIUM  0.475009  \n",
       "4  1537 N LAKE SHORE AVE LOS ANGELES 90026  MULTIFAMILY  0.585486  \n",
       "5      627 N TULAROSA DR LOS ANGELES 90026  MULTIFAMILY  0.586285  \n",
       "6     922 N MANZANITA ST LOS ANGELES 90029  MULTIFAMILY  0.673489  \n",
       "9   1503 S SHENANDOAH ST LOS ANGELES 90035  MULTIFAMILY  0.808627  "
      ]
     },
     "execution_count": 79,
     "metadata": {},
     "output_type": "execute_result"
    }
   ],
   "source": [
    "df.head(5)"
   ]
  },
  {
   "cell_type": "code",
   "execution_count": null,
   "metadata": {
    "collapsed": true
   },
   "outputs": [],
   "source": [
    "df.to_csv('data/likelyh')"
   ]
  }
 ],
 "metadata": {
  "kernelspec": {
   "display_name": "Python 3",
   "language": "python",
   "name": "python3"
  },
  "language_info": {
   "codemirror_mode": {
    "name": "ipython",
    "version": 3
   },
   "file_extension": ".py",
   "mimetype": "text/x-python",
   "name": "python",
   "nbconvert_exporter": "python",
   "pygments_lexer": "ipython3",
   "version": "3.6.0"
  }
 },
 "nbformat": 4,
 "nbformat_minor": 2
}
