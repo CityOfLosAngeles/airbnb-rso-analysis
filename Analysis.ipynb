{
 "cells": [
  {
   "cell_type": "code",
   "execution_count": 1,
   "metadata": {
    "collapsed": false
   },
   "outputs": [],
   "source": [
    "import pandas as pd\n",
    "import geocoder"
   ]
  },
  {
   "cell_type": "code",
   "execution_count": 2,
   "metadata": {
    "collapsed": false
   },
   "outputs": [
    {
     "name": "stderr",
     "output_type": "stream",
     "text": [
      "/Users/hunterowens/anaconda3/envs/airbnb-analysis/lib/python3.6/site-packages/IPython/core/interactiveshell.py:2717: DtypeWarning: Columns (43) have mixed types. Specify dtype option on import or set low_memory=False.\n",
      "  interactivity=interactivity, compiler=compiler, result=result)\n"
     ]
    }
   ],
   "source": [
    "listings = pd.read_csv('./data/listings.csv')"
   ]
  },
  {
   "cell_type": "code",
   "execution_count": 3,
   "metadata": {
    "collapsed": false
   },
   "outputs": [
    {
     "name": "stderr",
     "output_type": "stream",
     "text": [
      "/Users/hunterowens/anaconda3/envs/airbnb-analysis/lib/python3.6/site-packages/IPython/core/interactiveshell.py:2717: DtypeWarning: Columns (4,5) have mixed types. Specify dtype option on import or set low_memory=False.\n",
      "  interactivity=interactivity, compiler=compiler, result=result)\n"
     ]
    }
   ],
   "source": [
    "rent_controlled = pd.read_csv('./data/clean_rent.csv', names=['APN',\n",
    "                                                              'Property_Address',\n",
    "                                                              'Service_Date',\n",
    "                                                              'Land_Use_Code',\n",
    "                                                              'Unit_Count',\n",
    "                                                              'Exempted_Units',\n",
    "                                                              'RSO_Units',\n",
    "                                                              'Year_Built',\n",
    "                                                              'Category',\n",
    "                                                              'Council_District',\n",
    "                                                              'Secondary_Address',\n",
    "                                                              'houseID',\n",
    "                                                              'FC_NOTES'],\n",
    "                                                               skiprows=[0])"
   ]
  },
  {
   "cell_type": "markdown",
   "metadata": {},
   "source": [
    "##  Reverse Geocode"
   ]
  },
  {
   "cell_type": "code",
   "execution_count": 26,
   "metadata": {
    "collapsed": false
   },
   "outputs": [],
   "source": [
    "def rev_geocode(row):\n",
    "    g = geocoder.google([row.latitude, row.longitude], method='reverse')\n",
    "    if g.status_code == 200:\n",
    "        return g\n",
    "    else: \n",
    "        return \"error\""
   ]
  },
  {
   "cell_type": "code",
   "execution_count": 27,
   "metadata": {
    "collapsed": false
   },
   "outputs": [],
   "source": [
    "from tqdm import tqdm\n",
    "tqdm.pandas(desc=\"Progress Bar for Geocoding!\")"
   ]
  },
  {
   "cell_type": "code",
   "execution_count": 29,
   "metadata": {
    "collapsed": true
   },
   "outputs": [],
   "source": [
    "listings = listings.head(100)"
   ]
  },
  {
   "cell_type": "code",
   "execution_count": 30,
   "metadata": {
    "collapsed": false
   },
   "outputs": [
    {
     "name": "stderr",
     "output_type": "stream",
     "text": [
      "\n",
      "\n",
      "Progress Bar for Geocoding!:   0%|          | 0/95 [00:00<?, ?it/s]\u001b[A\u001b[A\n",
      "\n",
      "Progress Bar for Geocoding!:   2%|▏         | 2/95 [00:00<00:06, 13.47it/s]\u001b[A\u001b[A\n",
      "\n",
      "Progress Bar for Geocoding!:   3%|▎         | 3/95 [00:00<00:08, 10.59it/s]\u001b[A\u001b[A\n",
      "\n",
      "Progress Bar for Geocoding!:   4%|▍         | 4/95 [00:00<00:10,  8.64it/s]\u001b[A\u001b[A\n",
      "\n",
      "Progress Bar for Geocoding!:   5%|▌         | 5/95 [00:00<00:11,  7.88it/s]\u001b[A\u001b[A\n",
      "\n",
      "Progress Bar for Geocoding!:   6%|▋         | 6/95 [00:00<00:11,  7.46it/s]\u001b[A\u001b[A\n",
      "\n",
      "Progress Bar for Geocoding!:   7%|▋         | 7/95 [00:00<00:12,  7.26it/s]\u001b[A\u001b[A\n",
      "\n",
      "Progress Bar for Geocoding!:   8%|▊         | 8/95 [00:01<00:12,  7.01it/s]\u001b[A\u001b[A\n",
      "\n",
      "Progress Bar for Geocoding!:   9%|▉         | 9/95 [00:01<00:12,  6.74it/s]\u001b[A\u001b[A\n",
      "\n",
      "Progress Bar for Geocoding!:  11%|█         | 10/95 [00:01<00:12,  6.68it/s]\u001b[A\u001b[A\n",
      "\n",
      "Progress Bar for Geocoding!:  12%|█▏        | 11/95 [00:01<00:12,  6.87it/s]\u001b[A\u001b[A\n",
      "\n",
      "Progress Bar for Geocoding!:  13%|█▎        | 12/95 [00:01<00:12,  6.50it/s]\u001b[A\u001b[A\n",
      "\n",
      "Progress Bar for Geocoding!:  14%|█▎        | 13/95 [00:01<00:13,  6.22it/s]\u001b[A\u001b[A\n",
      "\n",
      "Progress Bar for Geocoding!:  15%|█▍        | 14/95 [00:02<00:13,  6.21it/s]\u001b[A\u001b[A\n",
      "\n",
      "Progress Bar for Geocoding!:  16%|█▌        | 15/95 [00:02<00:13,  6.08it/s]\u001b[A\u001b[A\n",
      "\n",
      "Progress Bar for Geocoding!:  17%|█▋        | 16/95 [00:02<00:13,  6.06it/s]\u001b[A\u001b[A\n",
      "\n",
      "Progress Bar for Geocoding!:  18%|█▊        | 17/95 [00:02<00:13,  5.80it/s]\u001b[A\u001b[A\n",
      "\n",
      "Progress Bar for Geocoding!:  19%|█▉        | 18/95 [00:02<00:13,  5.83it/s]\u001b[A\u001b[A\n",
      "\n",
      "Progress Bar for Geocoding!:  20%|██        | 19/95 [00:02<00:13,  5.79it/s]\u001b[A\u001b[A\n",
      "\n",
      "Progress Bar for Geocoding!:  21%|██        | 20/95 [00:03<00:13,  5.64it/s]\u001b[A\u001b[A\n",
      "\n",
      "Progress Bar for Geocoding!:  22%|██▏       | 21/95 [00:03<00:13,  5.31it/s]\u001b[A\u001b[A\n",
      "\n",
      "Progress Bar for Geocoding!:  23%|██▎       | 22/95 [00:03<00:14,  5.17it/s]\u001b[A\u001b[A\n",
      "\n",
      "Progress Bar for Geocoding!:  24%|██▍       | 23/95 [00:03<00:14,  4.99it/s]\u001b[A\u001b[A\n",
      "\n",
      "Progress Bar for Geocoding!:  25%|██▌       | 24/95 [00:03<00:14,  4.87it/s]\u001b[A\u001b[A\n",
      "\n",
      "Progress Bar for Geocoding!:  26%|██▋       | 25/95 [00:04<00:14,  4.74it/s]\u001b[A\u001b[A\n",
      "\n",
      "Progress Bar for Geocoding!:  27%|██▋       | 26/95 [00:04<00:14,  4.60it/s]\u001b[A\u001b[A\n",
      "\n",
      "Progress Bar for Geocoding!:  28%|██▊       | 27/95 [00:04<00:15,  4.51it/s]\u001b[A\u001b[A\n",
      "\n",
      "Progress Bar for Geocoding!:  29%|██▉       | 28/95 [00:04<00:15,  4.35it/s]\u001b[A\u001b[A\n",
      "\n",
      "Progress Bar for Geocoding!:  31%|███       | 29/95 [00:05<00:15,  4.38it/s]\u001b[A\u001b[A\n",
      "\n",
      "Progress Bar for Geocoding!:  32%|███▏      | 30/95 [00:05<00:15,  4.25it/s]\u001b[A\u001b[A\n",
      "\n",
      "Progress Bar for Geocoding!:  33%|███▎      | 31/95 [00:05<00:15,  4.04it/s]\u001b[A\u001b[A\n",
      "\n",
      "Progress Bar for Geocoding!:  34%|███▎      | 32/95 [00:05<00:15,  3.98it/s]\u001b[A\u001b[A\n",
      "\n",
      "Progress Bar for Geocoding!:  35%|███▍      | 33/95 [00:06<00:15,  3.90it/s]\u001b[A\u001b[A\n",
      "\n",
      "Progress Bar for Geocoding!:  36%|███▌      | 34/95 [00:06<00:16,  3.81it/s]\u001b[A\u001b[A\n",
      "\n",
      "Progress Bar for Geocoding!:  37%|███▋      | 35/95 [00:06<00:16,  3.72it/s]\u001b[A\u001b[A\n",
      "\n",
      "Progress Bar for Geocoding!:  38%|███▊      | 36/95 [00:06<00:13,  4.36it/s]\u001b[A\u001b[A\n",
      "\n",
      "Progress Bar for Geocoding!:  39%|███▉      | 37/95 [00:07<00:12,  4.77it/s]\u001b[A\u001b[A\n",
      "\n",
      "Progress Bar for Geocoding!:  40%|████      | 38/95 [00:07<00:10,  5.30it/s]\u001b[A\u001b[A\n",
      "\n",
      "Progress Bar for Geocoding!:  41%|████      | 39/95 [00:07<00:09,  5.68it/s]\u001b[A\u001b[A\n",
      "\n",
      "Progress Bar for Geocoding!:  42%|████▏     | 40/95 [00:07<00:09,  5.98it/s]\u001b[A\u001b[A\n",
      "\n",
      "Progress Bar for Geocoding!:  43%|████▎     | 41/95 [00:07<00:08,  6.25it/s]\u001b[A\u001b[A\n",
      "\n",
      "Progress Bar for Geocoding!:  44%|████▍     | 42/95 [00:07<00:11,  4.62it/s]\u001b[A\u001b[A\n",
      "\n",
      "Progress Bar for Geocoding!:  45%|████▌     | 43/95 [00:08<00:17,  3.06it/s]\u001b[A\u001b[A\n",
      "\n",
      "Progress Bar for Geocoding!:  46%|████▋     | 44/95 [00:08<00:14,  3.63it/s]\u001b[A\u001b[A\n",
      "\n",
      "Progress Bar for Geocoding!:  47%|████▋     | 45/95 [00:08<00:11,  4.23it/s]\u001b[A\u001b[A\n",
      "\n",
      "Progress Bar for Geocoding!:  48%|████▊     | 46/95 [00:09<00:11,  4.21it/s]\u001b[A\u001b[A\n",
      "\n",
      "Progress Bar for Geocoding!:  49%|████▉     | 47/95 [00:09<00:13,  3.48it/s]\u001b[A\u001b[A\n",
      "\n",
      "Progress Bar for Geocoding!:  51%|█████     | 48/95 [00:09<00:16,  2.85it/s]\u001b[A\u001b[A\n",
      "\n",
      "Progress Bar for Geocoding!:  52%|█████▏    | 49/95 [00:10<00:13,  3.43it/s]\u001b[A\u001b[A\n",
      "\n",
      "Progress Bar for Geocoding!:  53%|█████▎    | 50/95 [00:10<00:11,  3.94it/s]\u001b[A\u001b[A\n",
      "\n",
      "Progress Bar for Geocoding!:  54%|█████▎    | 51/95 [00:10<00:09,  4.58it/s]\u001b[A\u001b[A\n",
      "\n",
      "Progress Bar for Geocoding!:  55%|█████▍    | 52/95 [00:10<00:08,  5.10it/s]\u001b[A\u001b[A\n",
      "\n",
      "Progress Bar for Geocoding!:  56%|█████▌    | 53/95 [00:10<00:07,  5.57it/s]\u001b[A\u001b[A\n",
      "\n",
      "Progress Bar for Geocoding!:  57%|█████▋    | 54/95 [00:10<00:07,  5.85it/s]\u001b[A\u001b[A\n",
      "\n",
      "Progress Bar for Geocoding!:  58%|█████▊    | 55/95 [00:11<00:06,  6.08it/s]\u001b[A\u001b[A\n",
      "\n",
      "Progress Bar for Geocoding!:  59%|█████▉    | 56/95 [00:11<00:06,  6.35it/s]\u001b[A\u001b[A\n",
      "\n",
      "Progress Bar for Geocoding!:  60%|██████    | 57/95 [00:11<00:05,  6.52it/s]\u001b[A\u001b[A\n",
      "\n",
      "Progress Bar for Geocoding!:  61%|██████    | 58/95 [00:11<00:05,  6.51it/s]\u001b[A\u001b[A\n",
      "\n",
      "Progress Bar for Geocoding!:  62%|██████▏   | 59/95 [00:11<00:09,  3.75it/s]\u001b[A\u001b[A\n",
      "\n",
      "Progress Bar for Geocoding!:  63%|██████▎   | 60/95 [00:12<00:13,  2.64it/s]\u001b[A\u001b[A\n",
      "\n",
      "Progress Bar for Geocoding!:  64%|██████▍   | 61/95 [00:13<00:13,  2.51it/s]\u001b[A\u001b[A\n",
      "\n",
      "Progress Bar for Geocoding!:  65%|██████▌   | 62/95 [00:13<00:13,  2.51it/s]\u001b[A\u001b[A\n",
      "\n",
      "Progress Bar for Geocoding!:  66%|██████▋   | 63/95 [00:13<00:13,  2.45it/s]\u001b[A\u001b[A\n",
      "\n",
      "Progress Bar for Geocoding!:  67%|██████▋   | 64/95 [00:15<00:20,  1.52it/s]\u001b[A\u001b[A\n",
      "\n",
      "Progress Bar for Geocoding!:  68%|██████▊   | 65/95 [00:15<00:19,  1.54it/s]\u001b[A\u001b[A\n",
      "\n",
      "Progress Bar for Geocoding!:  69%|██████▉   | 66/95 [00:16<00:15,  1.89it/s]\u001b[A\u001b[A\n",
      "\n",
      "Progress Bar for Geocoding!:  71%|███████   | 67/95 [00:16<00:11,  2.41it/s]\u001b[A\u001b[A\n",
      "\n",
      "Progress Bar for Geocoding!:  72%|███████▏  | 68/95 [00:16<00:09,  2.93it/s]\u001b[A\u001b[A\n",
      "\n",
      "Progress Bar for Geocoding!:  73%|███████▎  | 69/95 [00:16<00:07,  3.51it/s]\u001b[A\u001b[A\n",
      "\n",
      "Progress Bar for Geocoding!:  74%|███████▎  | 70/95 [00:16<00:06,  4.07it/s]\u001b[A\u001b[A\n",
      "\n",
      "Progress Bar for Geocoding!:  75%|███████▍  | 71/95 [00:16<00:05,  4.26it/s]\u001b[A\u001b[A\n",
      "\n",
      "Progress Bar for Geocoding!:  76%|███████▌  | 72/95 [00:17<00:07,  3.24it/s]\u001b[A\u001b[A\n",
      "\n",
      "Progress Bar for Geocoding!:  77%|███████▋  | 73/95 [00:17<00:08,  2.58it/s]\u001b[A\u001b[A\n",
      "\n",
      "Progress Bar for Geocoding!:  78%|███████▊  | 74/95 [00:18<00:09,  2.27it/s]\u001b[A\u001b[A\n",
      "\n",
      "Progress Bar for Geocoding!:  79%|███████▉  | 75/95 [00:18<00:08,  2.39it/s]\u001b[A\u001b[A\n",
      "\n",
      "Progress Bar for Geocoding!:  80%|████████  | 76/95 [00:19<00:08,  2.17it/s]\u001b[A\u001b[A\n",
      "\n",
      "Progress Bar for Geocoding!:  81%|████████  | 77/95 [00:19<00:06,  2.67it/s]\u001b[A\u001b[A\n",
      "\n",
      "Progress Bar for Geocoding!:  82%|████████▏ | 78/95 [00:19<00:06,  2.70it/s]\u001b[A\u001b[A\n",
      "\n",
      "Progress Bar for Geocoding!:  83%|████████▎ | 79/95 [00:20<00:07,  2.21it/s]\u001b[A\u001b[A\n",
      "\n",
      "Progress Bar for Geocoding!:  84%|████████▍ | 80/95 [00:21<00:07,  1.99it/s]\u001b[A\u001b[A\n",
      "\n",
      "Progress Bar for Geocoding!:  85%|████████▌ | 81/95 [00:21<00:07,  2.00it/s]\u001b[A\u001b[A\n",
      "\n",
      "Progress Bar for Geocoding!:  86%|████████▋ | 82/95 [00:22<00:06,  2.05it/s]\u001b[A\u001b[A\n",
      "\n",
      "Progress Bar for Geocoding!:  87%|████████▋ | 83/95 [00:22<00:05,  2.05it/s]\u001b[A\u001b[A\n",
      "\n",
      "Progress Bar for Geocoding!:  88%|████████▊ | 84/95 [00:23<00:05,  2.03it/s]\u001b[A\u001b[A\n",
      "\n",
      "Progress Bar for Geocoding!:  89%|████████▉ | 85/95 [00:23<00:04,  2.01it/s]\u001b[A\u001b[A\n",
      "\n",
      "Progress Bar for Geocoding!:  91%|█████████ | 86/95 [00:23<00:03,  2.29it/s]\u001b[A\u001b[A\n",
      "\n",
      "Progress Bar for Geocoding!:  92%|█████████▏| 87/95 [00:24<00:02,  2.85it/s]\u001b[A\u001b[A\n",
      "\n",
      "Progress Bar for Geocoding!:  93%|█████████▎| 88/95 [00:24<00:02,  3.46it/s]\u001b[A\u001b[A\n",
      "\n",
      "Progress Bar for Geocoding!:  94%|█████████▎| 89/95 [00:24<00:01,  4.06it/s]\u001b[A\u001b[A\n",
      "\n",
      "Progress Bar for Geocoding!:  95%|█████████▍| 90/95 [00:24<00:01,  4.59it/s]\u001b[A\u001b[A\n",
      "\n",
      "Progress Bar for Geocoding!:  96%|█████████▌| 91/95 [00:24<00:00,  5.00it/s]\u001b[A\u001b[A\n",
      "\n",
      "Progress Bar for Geocoding!:  97%|█████████▋| 92/95 [00:24<00:00,  5.47it/s]\u001b[A\u001b[A\n",
      "\n",
      "Progress Bar for Geocoding!:  98%|█████████▊| 93/95 [00:24<00:00,  5.89it/s]\u001b[A\u001b[A\n",
      "\n",
      "Progress Bar for Geocoding!:  99%|█████████▉| 94/95 [00:25<00:00,  4.16it/s]\u001b[A\u001b[A\n",
      "\n",
      "Progress Bar for Geocoding!: 100%|██████████| 95/95 [00:25<00:00,  2.96it/s]\u001b[A\u001b[A\n",
      "\n",
      "Progress Bar for Geocoding!: 96it [00:26,  3.61it/s]                        \u001b[A\u001b[A\n",
      "\n",
      "Progress Bar for Geocoding!: 97it [00:26,  4.24it/s]\u001b[A\u001b[A\n",
      "\n",
      "Progress Bar for Geocoding!: 98it [00:26,  4.76it/s]\u001b[A\u001b[A\n",
      "\n",
      "Progress Bar for Geocoding!: 99it [00:26,  4.11it/s]\u001b[A\u001b[A\n",
      "\n",
      "Progress Bar for Geocoding!: 100it [00:27,  2.26it/s]\u001b[A\u001b[A\n",
      "\n",
      "\u001b[A\u001b[A"
     ]
    }
   ],
   "source": [
    "listings.geocode = listings.progress_apply(rev_geocode, axis=1)"
   ]
  },
  {
   "cell_type": "code",
   "execution_count": 33,
   "metadata": {
    "collapsed": false
   },
   "outputs": [
    {
     "data": {
      "text/plain": [
       "0     <[OK] Google - Reverse [100a E 8th St, Los Ang...\n",
       "1     <[OK] Google - Reverse [1975 W Silver Lake Dr,...\n",
       "2     <[OK] Google - Reverse [2775-2779 Highland Ave...\n",
       "3     <[OK] Google - Reverse [1726 Westridge Rd, Los...\n",
       "4     <[OK] Google - Reverse [4204 Glencoe Ave, Los ...\n",
       "5     <[OK] Google - Reverse [5346 Lemon Grove Ave, ...\n",
       "6     <[OK] Google - Reverse [Glenn Anderson Fwy, Lo...\n",
       "7     <[OK] Google - Reverse [390 Hauser Blvd, Los A...\n",
       "8     <[OK] Google - Reverse [11749 Goshen Ave, Los ...\n",
       "9     <[OK] Google - Reverse [948 N Curson Ave, West...\n",
       "10    <[OK] Google - Reverse [5435 Adenmoor Ave, Lak...\n",
       "11    <[OK] Google - Reverse [1232 Hyperion Ave, Los...\n",
       "12    <[OK] Google - Reverse [1265-1275 N Sweetzer A...\n",
       "13    <[OK] Google - Reverse [300-398 S Genesee Ave,...\n",
       "14    <[OK] Google - Reverse [10777 Wilshire Blvd, L...\n",
       "15    <[OK] Google - Reverse [12733 La Maida St, Val...\n",
       "16                <[OVER_QUERY_LIMIT] Google - Reverse>\n",
       "17                <[OVER_QUERY_LIMIT] Google - Reverse>\n",
       "18    <[OK] Google - Reverse [3250 Wilshire Blvd, Lo...\n",
       "19    <[OK] Google - Reverse [824 Sanborn Ave, Los A...\n",
       "20    <[OK] Google - Reverse [5725-5779 Green Oak Dr...\n",
       "21    <[OK] Google - Reverse [520 Lillian Way, Los A...\n",
       "22    <[OK] Google - Reverse [325 S Hope St, Los Ang...\n",
       "23    <[OK] Google - Reverse [4116 McLaughlin Ave, L...\n",
       "24    <[OK] Google - Reverse [15126 Greenleaf St, Sh...\n",
       "25    <[OK] Google - Reverse [2547 Creston Dr, Los A...\n",
       "26    <[OK] Google - Reverse [839-913 S Carondelet S...\n",
       "27    <[OK] Google - Reverse [9459 Jefferson Blvd, C...\n",
       "28    <[OK] Google - Reverse [333 Rennie Ave, Venice...\n",
       "29    <[OK] Google - Reverse [360 S Canon Dr, Beverl...\n",
       "                            ...                        \n",
       "70    <[OK] Google - Reverse [1609-1639 S Barrington...\n",
       "71    <[OK] Google - Reverse [1732 N Harvard Blvd, L...\n",
       "72    <[OK] Google - Reverse [11740 Wilshire Blvd, L...\n",
       "73    <[OK] Google - Reverse [151S S Mc Cadden Pl, L...\n",
       "74    <[OK] Google - Reverse [14815 Bestor Blvd, Pac...\n",
       "75    <[OK] Google - Reverse [28621 Seamount Dr, Ran...\n",
       "76    <[OK] Google - Reverse [538 Pier Ave, Santa Mo...\n",
       "77    <[OK] Google - Reverse [3301 Scadlock Ln, Sher...\n",
       "78    <[OK] Google - Reverse [17851 Tramonto Dr, Pac...\n",
       "79    <[OK] Google - Reverse [4522 W Maplewood Ave, ...\n",
       "80    <[OK] Google - Reverse [1415 Carroll Ave, Los ...\n",
       "81    <[OK] Google - Reverse [605 36th St, Manhattan...\n",
       "82    <[OK] Google - Reverse [3766 S Norton Ave, Los...\n",
       "83    <[OK] Google - Reverse [3184-3402 Vía Dolce, M...\n",
       "84    <[OK] Google - Reverse [4819 Vineland Pl, Nort...\n",
       "85    <[OK] Google - Reverse [5811 Ernest Ave, Los A...\n",
       "86    <[OK] Google - Reverse [1823 Vine St, Los Ange...\n",
       "87    <[OK] Google - Reverse [6041 Vantage Ave, Nort...\n",
       "88    <[OK] Google - Reverse [249 S Kingsley Dr, Los...\n",
       "89    <[OK] Google - Reverse [2234 N Naomi St, Burba...\n",
       "90    <[OK] Google - Reverse [7281 W Manchester Ave,...\n",
       "91    <[OK] Google - Reverse [5027 Franklin Ave, Los...\n",
       "92    <[OK] Google - Reverse [1211 Tamarind Ave, Los...\n",
       "93    <[OK] Google - Reverse [1205 Tamarind Ave, Los...\n",
       "94    <[OK] Google - Reverse [1352 Lucile Ave, Los A...\n",
       "95    <[OK] Google - Reverse [7120 W Willoughby Ave,...\n",
       "96    <[OK] Google - Reverse [11539 Kelsey St, North...\n",
       "97    <[OK] Google - Reverse [4266 Don Luis Dr, Los ...\n",
       "98    <[OK] Google - Reverse [1375 Londonderry Pl, L...\n",
       "99    <[OK] Google - Reverse [5173 Hollywood Blvd, L...\n",
       "dtype: object"
      ]
     },
     "execution_count": 33,
     "metadata": {},
     "output_type": "execute_result"
    }
   ],
   "source": [
    "listings.geocode"
   ]
  },
  {
   "cell_type": "code",
   "execution_count": 34,
   "metadata": {
    "collapsed": false
   },
   "outputs": [
    {
     "data": {
      "text/plain": [
       "100"
      ]
     },
     "execution_count": 34,
     "metadata": {},
     "output_type": "execute_result"
    }
   ],
   "source": []
  },
  {
   "cell_type": "code",
   "execution_count": null,
   "metadata": {
    "collapsed": true
   },
   "outputs": [],
   "source": []
  }
 ],
 "metadata": {
  "kernelspec": {
   "display_name": "Python 3",
   "language": "python",
   "name": "python3"
  },
  "language_info": {
   "codemirror_mode": {
    "name": "ipython",
    "version": 3
   },
   "file_extension": ".py",
   "mimetype": "text/x-python",
   "name": "python",
   "nbconvert_exporter": "python",
   "pygments_lexer": "ipython3",
   "version": "3.6.0"
  }
 },
 "nbformat": 4,
 "nbformat_minor": 0
}
